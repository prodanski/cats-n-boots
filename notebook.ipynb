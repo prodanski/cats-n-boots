{
 "cells": [
  {
   "cell_type": "code",

   "execution_count": 4,
   "id": "00bd9a6e",

   "metadata": {},
   "outputs": [],
   "source": [
    "import pandas as pd\n",
    "import numpy as np\n",
    "import matplotlib.pyplot as plt\n",
    "import random as rd"
   ]
  },
  {
   "cell_type": "code",

   "execution_count": 17,
   "id": "45e7c5ae",

   "metadata": {},
   "outputs": [
    {
     "data": {
      "image/png": "iVBORw0KGgoAAAANSUhEUgAAAXwAAAD4CAYAAADvsV2wAAAAOXRFWHRTb2Z0d2FyZQBNYXRwbG90bGliIHZlcnNpb24zLjMuNCwgaHR0cHM6Ly9tYXRwbG90bGliLm9yZy8QVMy6AAAACXBIWXMAAAsTAAALEwEAmpwYAAAqCUlEQVR4nO3dd3zV5d3/8dcne4eE7IQsiayww8YJiOIANyKKo7XVWrV2/jpue9fb1k71vq0oioqiVlzVKg5QpswEAQMJIyGLhCQQMshOzvX7g9haG8g4Sb5nfJ6PRx7JCV/O930emjdXvuf6XpcYY1BKKeX6PKwOoJRSamBo4SullJvQwldKKTehha+UUm5CC18ppdyEl9UBziYiIsIkJydbHUMppZxGVlbWcWNMZGd/5tCFn5ycTGZmptUxlFLKaYhI4Zn+TC/pKKWUm9DCV0opN6GFr5RSbkILXyml3IQWvlJKuQktfKWUchNa+Eop5SYceh6+Uo6irqmV3cXVFFU1cLK+BRFhUIA3qRFBpMeHEOznbXVEpbqkha/UGTS2tPOPvaW8mVlCVtFJ2m2d7x3h7SlMSg7nuokJXD4mFl8vzwFOqlT3iCNvgJKRkWH0Tls10FrabKzcVsj/fXaIkw2tDI0KYu6oaKalRpAaGUhEkC82Y6iqb+FQxSm25B1nzb5y8o/XExnsy/2z0lg4aQhennrFVA08EckyxmR0+mda+Er9y57iah5ctZu8ynpmDB3M9y9OY0pKOCJy1r9njGHToeM8+dlhdhRUMTwmmD/fMJZRcaEDlFyp07TwleqCMYan1ufxlzUHiQr25ZGr07loWFSXRd/Z83yYfYxfv7eP6oZWfnrZcO6Ykdzj51Gqt85W+HoNX7m9ptZ2fvzmXv6xp5Qrx8bxPwvSCfXv3ZuwIsK80bFMTR3MT9/ay8Pv7+fgsToeXpCOj5de4lHW0sJXbq22qZXbnt/BF8XV/OTSYdx9wTl9MhoPD/Rh2S0TeWzNQf73s8MUn2zg2VszCPTVHzllHR1yKLdV09DK4ue28+XRGp5aNIF7Lhzap5deRIQHLxnGn64fy/YjVdz+wk7qm9v67PmV6iktfOWWTjW3sXj5dnLL6lh680QuGx3bb+e6bmICj984jqyik9z+4k4aW9r77VxKnY0WvnI7re027l6Zxf6yWpYunsDskdH9fs4rx8bx2I3j2FlQxQOvf3HGOf1K9SctfOVWjDH8v7e/ZNOh4/z26nRmjej/sv/KVWPj+NXlI/l4Xzm/XZ0zYOdV6iv6DpJyKy98XsCbWSXcNyuNGyclDvj575iZQvHJBpZvPsLQqCBumjzwGZT70hG+chs7jlTx29U5zBkZzQOz0izL8cvLR3JeWgQPvbeP7KM1luVQ7kcLX7mFitomvvfqLhLC/PnzDWPx8LDuRihPD+GJheMZHOjDd1dmUdPQalkW5V7sKnwRCReRNSJyqONz2FmO9RSRL0TkfXvOqVRP2WyGB1ft4VRTG0/fMpEQB1jZMjzQh7/ePIHy2iZ+9OYeHPmOd+U67B3h/wz41BiTBnza8fhM7gf0nSo14FZsLWDz4eP88ooRDI8JsTrOP01IDOOnlw5nzf5y3sgqsTqOcgP2Fv58YEXH1yuABZ0dJCIJwOXAc3aeT6keOVRex6Mf5nLx8CgWOeAbpHfMSGFKSji/+cd+iqsarI6jXJy9hR9tjCkD6PgcdYbjHgd+Ati6ekIRuUtEMkUks7Ky0s54yp21ttv4wardBPp68ei1ox1yATMPD+HPN4wF4Edv7MGm8/NVP+qy8EVkrYhkd/IxvzsnEJErgApjTFZ3jjfGLDPGZBhjMiIjI7vzV5Tq1PObj5B9tJb/WZBOVLCf1XHOKCEsgP+6ciTbj1Txyo4iq+MoF9blPHxjzOwz/ZmIlItIrDGmTERigYpODpsBXCUi8wA/IEREVhpjFvc6tVJdKK5q4LG1B5k9IprL0mOsjtOl6ycm8N7uUv7wYS5zR0YTFeK4/0Ap52XvJZ33gCUdXy8B3v3mAcaY/2eMSTDGJAMLgc+07FV/Msbwi79n4ynCb+aPcshLOd8kIjy8IJ3mdhu/eX+/1XGUi7K38B8F5ojIIWBOx2NEJE5EVtsbTqneeG9PKRsPVvKjucOIG+RvdZxuS4kI5N6LhvL+3jLWHejsl2Wl7KM7XimXUt/cxkV/Wk9MqB/v3DMDTwtvsOqN5rZ2LntiE63tNtb84AL8vHVDdNUzZ9vxSu+0VS5l6fo8KuqaeejKUU5X9gC+Xp48PD+d4qpGnv/8iNVxlIvRwlcuo7iqgWWb8pk/Lo6JSWe86dvhzRgawewR0fz1s8NU1DVZHUe5EC185TIe/TAXD4GfXjrc6ih2+8XlI2hpt/GXTw5aHUW5EC185RK255/ggy/LuPuCoU71Ru2ZpEQEsmRaMq9nFrOvVFfUVH1DC185PWMMj6zOIS7Uj7vOT7U6Tp/5/qw0Bvl78/D7+3VxNdUntPCV0/sw+xh7S2p48JJh+Pu4zqyWUH9vfjDnXLblV7HhoC4zouynha+cWlu7jT99coC0qCCuHh9vdZw+t3BSIkPC/fnjxwd0nR1lNy185dTe3nWU/Mp6fnjJMKechtkVHy8PfjD7XPaV1vLRvmNWx1FOTgtfOa2m1nYeX3uQsUMGMXfUwG1GPtDmj4snLSqIP39ygLb2LhecVeqMtPCV03plexGlNU38ZO4wp1gvp7c8PYQfXjKMvMp63vniqNVxlBPTwldOqb65jafWHWbG0MHMGBphdZx+N3dUNGMSQnl87SGa29qtjqOclBa+ckortxVyor6FH14yzOooA0JE+PHcYRytbmRVpm6HqHpHC185ncaWdp7dlM95aRFMSHTeJRR6aubQCCYmhfH0+jxa2vRavuo5LXzldF7dUcTxUy3cNyvN6igDSkS49+KhHK1u5J0vdJSvek4LXzmVptZ2ntmQx9TUcCYlh1sdZ8BdeG4ko+NDeWp9ns7YUT2mha+cyhuZxVTUNXPfxe41uv/KV6P8whMN/GNvqdVxlJPRwldOo6XNxtL1eWQkhTHtnMFWx7HMnBHRDI8J5snPDtOud9+qHtDCV07jrV0llNY08f1ZaS49774rHh6nR/l5lfV8mF1mdRzlRLTwlVNotxme3pDH2IRQzk9z/Xn3XbksPZbUyECe/OywrqSpuk0LXzmFj/cdo/BEA3dfeI5bj+6/4ukh3HPhUHKP1bFeV9JU3aSFrxyeMYZnNuSRPDiAOSNjrI7jMK4aG0dMiB/PbMizOopyElr4yuFty69iT0kN3z4/1SVXxOwtHy8P7piZzLb8KvaWVFsdRzkBLXzl8JZtzCMiyIdrJyRYHcXh3DQ5kWBfL57ZmG91FOUEtPCVQ8s9Vsu6A5XcNj0ZP2/X2c2qrwT7ebNoaiIffllG0YkGq+MoB6eFrxzaso35BPh4snhqktVRHNYdM1Lw9BCWb9ZRvjo7uwpfRMJFZI2IHOr43OlKViIySETeFJFcEckRkWn2nFe5h7KaRt7bXcqNk4YwKMDH6jgOKzrEj/nj4lmVWcLJ+har4ygHZu8I/2fAp8aYNODTjsedeQL4yBgzHBgL5Nh5XuUGnt98BAPcOTPF6igO767zU2lsbeflbYVWR1EOzN7Cnw+s6Ph6BbDgmweISAhwPrAcwBjTYoyptvO8ysXVNbXy2o5irhgTS0JYgNVxHN650cFcPDyKFVsKaGrVDVJU5+wt/GhjTBlAx+eoTo5JBSqBF0TkCxF5TkQCz/SEInKXiGSKSGZlpd5Q4q7ezCrhVHObju574K7zUzlR36LbIKoz6rLwRWStiGR38jG/m+fwAiYAS40x44F6znzpB2PMMmNMhjEmIzIyspunUK7EZjO8tLWQ8YmDGJMwyOo4TmNKSjgjY0N44fMjutyC6lSXhW+MmW2MSe/k412gXERiATo+V3TyFCVAiTFme8fjNzn9D4BSndp4qJIjx+u5bXqy1VGciohwx8wUDpaf4vPDJ6yOoxyQvZd03gOWdHy9BHj3mwcYY44BxSLy1eajs4D9dp5XubCXthYSEeTLZemxVkdxOleOjSUiyIcXPj9idRTlgOwt/EeBOSJyCJjT8RgRiROR1V877vvAKyKyFxgH/NbO8yoXVXiinnUHKlg0JREfL71NpKd8vTxZNCWJT3MrOHK83uo4ysHY9RNljDlhjJlljEnr+FzV8f1SY8y8rx23u+O6/BhjzAJjzEl7gyvX9NLWQjxFuHlKotVRnNbiqYl4eworthRYHUU5GB1CKYdR39zGqsxiLhsdS3SIn9VxnFZUsB9XjonjjcxiaptarY6jHIgWvnIY73xxlLqmNm6brsso2Ov2GSnUt7Szamex1VGUA9HCVw7BGMNLWwtIjw9hQmKnK3SoHhidEMqk5DBWbC3QfW/VP2nhK4ewNe8EB8tPsWRasu5o1Udun5FCcVUja3PKrY6iHIQWvnIIK7YWEBbgzZVj46yO4jIuGRlN/CB/naKp/kkLX1mu5GQDa/aXs3Byoq5534e8PD24dVoS2/Kr2F9aa3Uc5QC08JXlVm4rAtA17/vBwkmJ+Ht76hRNBWjhK4s1tbbzt51FXDIyhvhB/lbHcTmhAd4sGB/Pu3uOUt2ga+W7Oy18Zan3dpdS3dDKEl03p9/cOi2JplYbb2SWWB1FWUwLX1nGGMOLWwoYFh3M1NRwq+O4rBGxIUxODuflbYU6RdPNaeEry2QWnmR/WS1LputUzP526/Qkiqoa2HCwswVtlbvQwleWWbGlgBA/LxaM16mY/W3uqBiign15aatugejOtPCVJcprm/go+xg3ZAwhwMfL6jguz9vTg0VTEll/oJICXUXTbWnhK0u8sq2QdmO4dVqy1VHcxqLJiXh5iG507sa08NWAa25r59UdRVw8LIrEwbpB+UCJCvHjstGxrMospqGlzeo4ygJa+GrArf6yjOOnWnQqpgVunZZEXVMb7+4utTqKsoAWvhpwL24pJDUykJlDI6yO4nYyksIYERvCii0FutG5G9LCVwNqd3E1e4qrWTItGQ8PnYo50ESEJdOSyD1Wx84C3XjO3WjhqwG1YksBQb5eXDsxweoobmv+uHhC/LxYsbXA6ihqgGnhqwFTWdfMB3vLuHZCPEG+OhXTKv4+ntyQMYSPs49RXttkdRw1gLTw1YD5244iWtpt3Kpv1lpu8dQk2o3h1e1FVkdRA0gLXw2I1nYbK7cXcl5aBOdEBlkdx+0lRwRywbmRvLqjiJY2m9Vx1ADRwlcD4uN9xyivbeY2Hd07jCXTkqmsa+bjfcesjqIGiBa+GhArthSQGB7AhcOirI6iOlxwbiSJ4QG8pG/eug27Cl9EwkVkjYgc6vgcdobjfiAi+0QkW0ReExE/e86rnMu+0hp2Fpzk1mlJeOpUTIfh4SHcOi2JnQUn2VdaY3UcNQDsHeH/DPjUGJMGfNrx+N+ISDxwH5BhjEkHPIGFdp5XOZEVWwrw9/bk+olDrI6ivuH6iUPw8/bgZV1F0y3YW/jzgRUdX68AFpzhOC/AX0S8gABA7+t2EyfrW3h3dykLxscTGuBtdRz1DaEB3iwYF8/fd+sWiO7A3sKPNsaUAXR8/o8LtMaYo8CfgCKgDKgxxnxypicUkbtEJFNEMisrK+2Mp6z2emYxzW02lkzXDcod1a3TkmlqtbEqs9jqKKqfdVn4IrK249r7Nz/md+cEHdf15wMpQBwQKCKLz3S8MWaZMSbDGJMRGRnZ3dehHFC7zfDy1kKmpoYzPCbE6jjqDEbG6RaI7qLLwjfGzDbGpHfy8S5QLiKxAB2fO9s/bTZwxBhTaYxpBd4Gpvfli1COaW1OOUerG3UqphNYMj2Z4qpG1uXqFoiuzN5LOu8BSzq+XgK828kxRcBUEQmQ0xuXzgJy7DyvcgIrthQQF+rH7BHRVkdRXbhkVDQxIX66vo6Ls7fwHwXmiMghYE7HY0QkTkRWAxhjtgNvAruALzvOuczO8yoHd7C8ji15J1g8LQkvT73dw9F5e3pw85RENh06zuGKU1bHUf3Erp9EY8wJY8wsY0xax+eqju+XGmPmfe24h4wxwzsuBd1ijGm2N7hybCu2FODj5cHCSYlWR1HddNOURHw8PXhZR/kuS4deqs/VNLby9q6jXDU2jvBAH6vjqG6KCPLlijGxvJlVQl1Tq9VxVD/Qwld97s2sEhpb2/XNWid06/Rk6lvaeXvXUaujqH6gha/6lM1meGlrAROTwkiPD7U6juqhcUMGMXbIIFZsLcCmUzRdjha+6lPrD1ZQeKJBR/dO7LbpSeRX1rP58HGro6g+poWv+tQLnxcQHeLLpekxVkdRvTRvdCwRQT66iqYL0sJXfeZwRR2bDh3nlqlJeOtUTKfl6+XJTZMT+TS3gqITDVbHUX1IfypVn1mxpRAfLw9umqxTMZ3dzVOS8BTh5W0FVkdRfUgLX/WJmsZW3tpVwlVj4xgc5Gt1HGWnmFA/5qbH8PrOYhpb2q2Oo/qIFr7qE29kFtPQolMxXcmSacnUNrXx9906RdNVaOEru7XbDC9tLWRSsk7FdCWTksMYERvCii0FGKNTNF2BFr6y27rcCoqqGrhteorVUVQfEhFum55E7rE6dhypsjqO6gNa+MpuL24pIDbUj0tG6aqYruaqsfGE+nvrKpouQgtf2eVQeR2bDx9nsU7FdEn+Pp4snDSEj/eVU1rdaHUcZSf9CVV2WbG1QKdiurjFU5MwxrBym2507uy08FWv1TS28lbWURaM01UxXdmQ8AAuGRnDqzuKaGhpszqOsoMWvuq1NzKLaWxtZ4lOxXR5d56XQnVDK2/pKppOTQtf9Upbu40XtxQwOTmcUXE6FdPVZSSFMTYhlBc2H9FVNJ2YFr7qlY/3lVNyspE7z9OpmO5ARLjzvFTyj9ez7oBudO6stPBVjxljeHZTPsmDA3SDcjdyWXoMsaF+LN98xOooqpe08FWP7So6ye7iau6cmYKnh1gdRw0Qb08PbpuezJa8E+wrrbE6juoFLXzVY89uPEKovzfXTkywOooaYAsnJxLg46mjfCelha96pPBEPR/vP8biqYkE+HhZHUcNsFB/b27IGMI/9pRSUdtkdRzVQ1r4qkee33wELw9hybRkq6Moi9w+I5m2jgXzlHPRwlfdVtPQyqrMEq4aG09UiJ/VcZRFkgYHcsnIaFZuL9S18p2MXYUvIteLyD4RsYlIxlmOu1REDojIYRH5mT3nVNZ5ZUchja3tfEunYrq9O2emUt3QyttflFgdRfWAvSP8bOAaYOOZDhART+CvwGXASOAmERlp53nVAGtps7FiSwEzh0YwIjbE6jjKYpOSwxiTEMpyvRHLqdhV+MaYHGPMgS4OmwwcNsbkG2NagL8B8+05rxp47+8tpby2WUf3Cjh9I9a3zkslv7KeNTnlVsdR3TQQ1/DjgeKvPS7p+J5yEsYYlm3M59zoIC44N9LqOMpBzEuPITE8gKXr83RHLCfRZeGLyFoRye7ko7uj9M7uzDnj/x0icpeIZIpIZmVlZTdPofrTugMV5B6r47sXnIOI3milTvPy9OCu81PZXVzNdt0Ryyl0WfjGmNnGmPROPt7t5jlKgCFfe5wAlJ7lfMuMMRnGmIzISB1NOoKn1uURP8ifK8fGWR1FOZjrJiYQEeTL0vV5VkdR3TAQl3R2AmkikiIiPsBC4L0BOK/qAzsLqsgsPMm3z0vRHa3Uf/Dz9uSOmclsOFipyy04AXunZV4tIiXANOADEfm44/txIrIawBjTBtwLfAzkAKuMMfvsi60GylPrDhMe6MONk3RHK9W5xVOTCPb14ukN+VZHUV2wd5bOO8aYBGOMrzEm2hgzt+P7pcaYeV87brUx5lxjzDnGmEfsDa0GRk5ZLesOVHL79GT8fTytjqMcVIifN4umJvLB3lIKT9RbHUedhf6Ors5o6fo8An08uVWXUVBduHNGCl4eHizbqKN8R6aFrzpVdKKB9/eWcvPUJEIDvK2OoxxcVIgf105M4I2sEirqdFE1R6WFrzr1zMY8vDw8uHOm3miluuc756fS1m7j+c0FVkdRZ6CFr/7DsZom3sgq4dqJ8UTrImmqm5IjArliTBwvby2gqr7F6jiqE1r46j88vSEPm81w9wVDrY6inMx9s4bS0NrOc5v0Wr4j0sJX/6a8tolXdxRxzYR4EgcHWB1HOZmhUcFcPjqWFVsKOKmjfIejha/+zdL1ebTbDPdelGZ1FOWk7puVRkNru26D6IC08NU/VdQ28dqOIq4Zr6N71XvnRgczLz2WF7cUUN2go3xHooWv/unpDfm02Qz3XqzX7pV9vj9rKKea23heR/kORQtfAadH969sL+Tq8fEkDQ60Oo5ycsNjQrgsPYYXPi+gpqHV6jiqgxa+AuCZjR2j+4t0dK/6xn2z0qhrbuP5z3WU7yi08BXHappYua2QBePiSY7Q0b3qGyNiT4/yn998RGfsOAgtfMUTnx7CZgwPzNaZOapvPTjnXOpb2li6QdfLdwRa+G7uyPF6VmUWs2hyIkPCdWaO6ltp0cFcMyGBF7cUUFbTaHUct6eF7+b+/MkBfL08uPdiHd2r/vHA7DQw8MTaQ1ZHcXta+G4s+2gN7+8t444ZKUQG+1odR7mohLAAbp6ayKrMYg5XnLI6jlvTwndjf/z4AIMCvLnrglSroygX972LhuLv7clf1hywOopb08J3U9vzT7DhYCV3X3AOIX663r3qXxFBvtx5XiqrvzzG3pJqq+O4LS18N2SzGX67OoeYED+WTE+2Oo5yE98+L4WwAG9+/1Euxhir47glLXw39N6eUvaU1PDjucPw89a9atXACPbz5r5ZaXx++ASf5VZYHcctaeG7mcaWdn7/US6j40O5eny81XGUm1k8NYnUyEAe+SCHljab1XHcjha+m3luUz5lNU388vIReHiI1XGUm/H29OAX80aQf7yeldsKrY7jdrTw3UhFbRNLN+Rx6agYpqQOtjqOclMXD4/ivLQInvj0kC6fPMC08N3Inz45QGu7jZ9dNtzqKMqNiQi/vHwkdU2tPK43Yw0oLXw3kX20hjeySrhterIukKYsNywmmIWTE3l5W6HejDWA7Cp8EbleRPaJiE1EMs5wzBARWSciOR3H3m/POVXP2WyGX/49m8GBPrqEgnIYD845lwAfT3793j6dpjlA7B3hZwPXABvPckwb8ENjzAhgKvA9ERlp53lVD7yeWczu4mp+Pm8Eof56k5VyDBFBvvx47jA2Hz7O+3vLrI7jFuwqfGNMjjHmrPdKG2PKjDG7Or6uA3IAnQ84QKrqW/j9R7lMTg7XaZjK4dw8JYn0+BAefn8/dU26M1Z/G9Br+CKSDIwHtp/lmLtEJFNEMisrKwcsm6v6w0e51DW18ZsFoxDRaZjKsXh6CP+zYDSVp5p5bI2+gdvfuix8EVkrItmdfMzvyYlEJAh4C3jAGFN7puOMMcuMMRnGmIzIyMienEJ9w66ik/xtZzG3T09meEyI1XGU6tS4IYNYNDmRF7ccYV9pjdVxXFqXhW+MmW2MSe/k493unkREvDld9q8YY962J7DqnpY2Gz9/+0uiQ3x5YM65VsdR6qx+Mnc4YQE+/Orv2dhs+gZuf+n3Szpy+jrCciDHGPOX/j6fOm3p+jxyj9XxyILRBPl6WR1HqbMKDfDmF5ePYFdRNS/rHbj9xt5pmVeLSAkwDfhARD7u+H6ciKzuOGwGcAtwsYjs7viYZ1dqdVYHy+t4ct0hrhobx+yR0VbHUapbrh4fz4XDIvn9R7kUVzVYHccliSPPf83IyDCZmZlWx3Aq7TbDtUu3UFTVwJofnM/gIN3JSjmP0upGLnlsI2MSQnnlW1N0okEviEiWMabT+6L0TlsX88LnR9hdXM1DV47UsldOJ26QPz+fN4IteSd4dUeR1XFcjha+CzlcUccfPz7ArOFRXDU2zuo4SvXKTZOHMGPoYH63Opej1Y1Wx3EpWvguoqXNxgOv7ybQ14vfXTtafxVWTktEePSaMRhj+OGq3bTrrJ0+o4XvIh5fe5Dso7X87prRRAX7WR1HKbsMCQ/g11eNYlt+Fc9szLM6jsvQwncB2/NPsHRDHgsnDWHuqBir4yjVJ66bmMDlY2L5yycH2VNcbXUcl6CF7+RqGlt5cNUeEsMD+NUVuiadch0iwm8XjCYq2JcHXt9NfXOb1ZGcnha+EzPG8OM39lBe28RjN44jUG+wUi4mNMCbv9w4joIT9fz6vX1Wx3F6WvhO7LlNR/hkfzk/u2w4ExLDrI6jVL+YmjqYey8ayhtZJazaWWx1HKemhe+kdhZU8ehHuVw6KoY7Z6ZYHUepfvXA7HOZOTSCX76bTfZRXWCtt7TwnVBlXTPfe2UXQ8L8+cP1Y3QKpnJ5nh7CEwvHERHow3dXZunm572khe9kWtpsfO/VXdQ0tvLUzRMJ8dMdrJR7GBzky19vnkB5bRMPvK7z83tDC9+JGGP45d+/ZMeRKv5w3RhGxuka98q9jE8M46ErR7H+QCW//yjX6jhOR6d1OJHlm4+wKrOE+y4eyvxxul2hck83T0nkYHkdyzbmkxIRyE2TE62O5DS08J3EpznlPLI6h3mjY3hgtm5ootyXiPBfV4yk8EQDv/p7NkPCApiZFmF1LKegl3ScwJ7iau577QvS40L58/Xj8PDQN2mVe/Py9ODJReM5JzKIu1/J4lB5ndWRnIIWvoM7XHGK217YQXiQD88tycDfx9PqSEo5hGA/b5bfloGftye3LN+hm6Z0gxa+AyuraeTW5dvx9BBevmMK0SG6KJpSX5cQFsBLd0ymoaWNxcu3U1HbZHUkh6aF76Aq65q5ZfkO6praePH2ySRHBFodSSmHNCI2hBfvmPzPnxmdo39mWvgOqLKumUXPbuPoyUaeXZJBenyo1ZGUcmgTEsNYdksGR47Xs+T5HdQ0tFodySFp4TuYirombnp2GyUnG3nh9klMTR1sdSSlnMLMtAj+evMEcsrquOnZbVTV60j/m7TwHUhpdSM3LTs9steyV6rn5oyMZtmtE8mrPMXCZVupqNNr+l+nhe8gDpXXce3SLVTUNvOilr1SvXbhsCheuH0SJScbufGZbTp752u08B1AVmEV1z29lTab4fXvTGOKlr1Sdpl+TgQv3zmZE6eaufqpLbpjVgctfIu9u/soi57dTnigD2/fPV3Xx1Gqj0xMCufte6bj7+PBjcu28sm+Y1ZHspxdhS8i14vIPhGxiUhGF8d6isgXIvK+Ped0Fe02w6Mf5nL/33YzNmEQb353GkPCA6yOpZRLGRoVzDv3zGBYTAjfWZnFMxvyMMZ9V9m0d4SfDVwDbOzGsfcDOXaezyXUNLbyrRU7eXpDHoumJLLyW1MYHORrdSylXFJEkC9/+/ZU5qXH8rsPc7l75S5qm9xz2qZdhW+MyTHGHOjqOBFJAC4HnrPnfK4gq7CKeU9sYtOh4zy8IJ3fXj0aHy+9sqZUf/L38eTJReP55eUjWJNTzvwnPyf3WK3VsQbcQDXN48BPAFtXB4rIXSKSKSKZlZWV/R5soLTbDE9+dogbntmGCLz+nWncMjXJ6lhKuQ0R4VvnpfLat6dS39zGVU9+zvLNR7C50UYqXRa+iKwVkexOPuZ35wQicgVQYYzJ6s7xxphlxpgMY0xGZGRkd/6Kw8uvPMVNz27jT58cZN7oWFbffx4Tk3TTcaWsMDklnA/uO4/z0yJ4+P39LHpuGyUn3WPqZpfr4RtjZtt5jhnAVSIyD/ADQkRkpTFmsZ3P6/Ba2208uymfx9cewtfLgz9dP5ZrJ8TrHrRKWSwy2Jdnb83gjcwS/vsf+7j08U38eO4wFk9NwtOFlx+XvnjHWkTWAz8yxmR2cdyFHcdd0Z3nzcjIMJmZZ31Kh7XjSBUPvbePnLJaLkuP4b+vGkWUrnaplMMprmrg5+98yaZDx0mPD+Hh+emMT3Te38BFJMsY0+msSXunZV4tIiXANOADEfm44/txIrLanud2VsVVDdzzShY3PLOV6oYWnl48gaWLJ2rZK+WghoSfXmL5r4smUFnXzDVLt/CjN/ZQWt1odbQ+1ycj/P7iTCP88tomnt6QxyvbivD0EO6+8By+fV6qbliilBM51dzG/356iBc/LwCBJdOSuOfCoYQF+lgdrdvONsLXwrdTWU0jT6/P47WdxbTbDNdOiOfBOcOICdURvVLO6mh1I4+tOcjbu0rw9/Zk0ZRE7pyZ6hQ/11r4/eCLopOs2FLAB1+WYQxcNzGBey4cSuJgvVtWKVdxsLyOv647zPt7y/AQuHp8PHfOTGVYTLDV0c5IC7+PnGpu48Mvy1i5vYg9xdUE+Xpx3cQE7pyZossiKOXCiqsaeG5TPq9nFtPUamNiUhg3TU7k8tGxDnfZVgvfDm3tNjYdPs47u47yyf5jNLXaSI0M5LbpyVwzIYEg3y5ntiqlXERVfQtv7yrh1e1F5B+vJ9jPi0tHxXDF2DimnzMYb0/r75rXwu+huqZWNh06ztr95aw7UMHJhlZC/b25Ykws10yIZ0JimM6lV8qNGWPYfqSKVTuL+WR/Oaea2wgL8ObS9FhmDY9i2jmDCbRoMHi2wtfhKdDc1s7ekhq2559gW34V24+coLXdMCjAm4uGRTF3VAwXDY/E18uxfnVTSllDRJiaOpipqYNpam1nw8FK3t9bxru7j/LajiK8PYVJyeFcOCySqamDGRkbgpcjjP7dbYRvjOFodSPZR2vIPlrLrqKT7Co6SVPr6WV+hkUHc8GwSGYNj2JiUphD/EdSSjmH5rZ2sgpOsuFgJesPVHKgvA4Af29Pxg0ZREZyGBMSwxgZF0JUsG+/XClwy0s6xhjKa5vJrzxF3vF68itPcaj8FNmlNVR37Gjv6SEMiw5mSmo4U1IGMzklnHAnmm+rlHJsx2qa2FlQRVbhSTILq8gpq6O9Y7G28EAfhscEMyI2hGExwaREBJISEcjgQB+7/iFwq8Jva7dxzdIt5FWcor6l/Z/f9/f25JyoQNLjQhkVH8ro+FCGxwTj562XaZRSA6O+uY3sozXklNWSU1ZH7rFaco/V0dz2r4WEg329GB4bzKrvTOtV8bvVNXwvTw/OiQxiQmIY50QGkhoZREpEIDEhfni48KJISinHF+jrxZTUwf+2b3W7zVBc1cCRE/UUHK/nyPF6Wttt/XK5x+UKH+CxG8dZHUEppbrF00NIjggkOSIQhvXvufQdSaWUchNa+Eop5Sa08JVSyk1o4SullJvQwldKKTehha+UUm5CC18ppdyEFr5SSrkJh15aQUQqgcJe/vUI4HgfxrGSq7wWV3kdoK/FEbnK6wD7XkuSMSaysz9w6MK3h4hknmk9CWfjKq/FVV4H6GtxRK7yOqD/Xote0lFKKTehha+UUm7ClQt/mdUB+pCrvBZXeR2gr8URucrrgH56LS57DV8ppdS/c+URvlJKqa/RwldKKTfh0oUvIg+LyF4R2S0in4hInNWZekNE/igiuR2v5R0RGWR1pt4SketFZJ+I2ETE6abQicilInJARA6LyM+szmMPEXleRCpEJNvqLPYQkSEisk5Ecjr+37rf6ky9JSJ+IrJDRPZ0vJb/7tPnd+Vr+CISYoyp7fj6PmCkMea7FsfqMRG5BPjMGNMmIr8HMMb81OJYvSIiIwAb8AzwI2NM73apt4CIeAIHgTlACbATuMkYs9/SYL0kIucDp4CXjDHpVufpLRGJBWKNMbtEJBjIAhY4438XOb2vYaAx5pSIeAObgfuNMdv64vldeoT/Vdl3CASc8l83Y8wnxpi2jofbgAQr89jDGJNjjDlgdY5emgwcNsbkG2NagL8B8y3O1GvGmI1AldU57GWMKTPG7Or4ug7IAeKtTdU75rRTHQ+9Oz76rLdcuvABROQRESkGbgb+y+o8feAO4EOrQ7ipeKD4a49LcNJicVUikgyMB7ZbHKXXRMRTRHYDFcAaY0yfvRanL3wRWSsi2Z18zAcwxvzCGDMEeAW419q0Z9bV6+g45hdAG6dfi8PqzmtxUtLJ95zyt0ZXJCJBwFvAA9/47d6pGGPajTHjOP2b/GQR6bPLbV599URWMcbM7uahrwIfAA/1Y5xe6+p1iMgS4ApglnHwN1568N/E2ZQAQ772OAEotSiL+pqO691vAa8YY962Ok9fMMZUi8h64FKgT95Yd/oR/tmISNrXHl4F5FqVxR4icinwU+AqY0yD1Xnc2E4gTURSRMQHWAi8Z3Emt9fxRudyIMcY8xer89hDRCK/moUnIv7AbPqwt1x9ls5bwDBOzwopBL5rjDlqbaqeE5HDgC9wouNb25xxthGAiFwN/B8QCVQDu40xcy0N1QMiMg94HPAEnjfGPGJtot4TkdeACzm9FG858JAxZrmloXpBRGYCm4AvOf2zDvBzY8xq61L1joiMAVZw+v8vD2CVMeY3ffb8rlz4Siml/sWlL+kopZT6Fy18pZRyE1r4SinlJrTwlVLKTWjhK6WUm9DCV0opN6GFr5RSbuL/A7jI2qR9Td0DAAAAAElFTkSuQmCC\n",
      "text/plain": [
       "<Figure size 432x288 with 1 Axes>"
      ]
     },
     "metadata": {
      "needs_background": "light"
     },
     "output_type": "display_data"
    },
    {
     "data": {
      "text/html": [
       "<div>\n",
       "<style scoped>\n",
       "    .dataframe tbody tr th:only-of-type {\n",
       "        vertical-align: middle;\n",
       "    }\n",
       "\n",
       "    .dataframe tbody tr th {\n",
       "        vertical-align: top;\n",
       "    }\n",
       "\n",
       "    .dataframe thead th {\n",
       "        text-align: right;\n",
       "    }\n",
       "</style>\n",
       "<table border=\"1\" class=\"dataframe\">\n",
       "  <thead>\n",
       "    <tr style=\"text-align: right;\">\n",
       "      <th></th>\n",
       "      <th>X</th>\n",
       "      <th>Y</th>\n",
       "    </tr>\n",
       "  </thead>\n",
       "  <tbody>\n",
       "    <tr>\n",
       "      <th>0</th>\n",
       "      <td>7</td>\n",
       "      <td>1</td>\n",
       "    </tr>\n",
       "    <tr>\n",
       "      <th>1</th>\n",
       "      <td>2</td>\n",
       "      <td>2</td>\n",
       "    </tr>\n",
       "    <tr>\n",
       "      <th>2</th>\n",
       "      <td>0</td>\n",
       "      <td>0</td>\n",
       "    </tr>\n",
       "    <tr>\n",
       "      <th>3</th>\n",
       "      <td>3</td>\n",
       "      <td>1</td>\n",
       "    </tr>\n",
       "    <tr>\n",
       "      <th>4</th>\n",
       "      <td>4</td>\n",
       "      <td>2</td>\n",
       "    </tr>\n",
       "    <tr>\n",
       "      <th>5</th>\n",
       "      <td>2</td>\n",
       "      <td>3</td>\n",
       "    </tr>\n",
       "    <tr>\n",
       "      <th>6</th>\n",
       "      <td>5</td>\n",
       "      <td>4</td>\n",
       "    </tr>\n",
       "    <tr>\n",
       "      <th>7</th>\n",
       "      <td>0</td>\n",
       "      <td>0</td>\n",
       "    </tr>\n",
       "    <tr>\n",
       "      <th>8</th>\n",
       "      <td>3</td>\n",
       "      <td>1</td>\n",
       "    </tr>\n",
       "    <tr>\n",
       "      <th>9</th>\n",
       "      <td>4</td>\n",
       "      <td>2</td>\n",
       "    </tr>\n",
       "  </tbody>\n",
       "</table>\n",
       "</div>"
      ],
      "text/plain": [
       "   X  Y\n",
       "0  7  1\n",
       "1  2  2\n",
       "2  0  0\n",
       "3  3  1\n",
       "4  4  2\n",
       "5  2  3\n",
       "6  5  4\n",
       "7  0  0\n",
       "8  3  1\n",
       "9  4  2"
      ]
     },
     "execution_count": 3,
     "metadata": {},
     "output_type": "execute_result"
    }
   ],
   "source": [
    "x=np.linspace(-3,3,1000)\n",
    "y=[]\n",
    "\n",
    "def gauss(x,mu=0,s=1):\n",
    "    g=1/(s*(2*np.pi)**0.5)*np.exp(-0.5*(x-mu)**2/(s**2))\n",
    "    return g\n",
    "\n",
    "for i in x:\n",
    "    y.append(gauss(i))\n",
    "y=np.array(y)\n",
    "y=y-0.5\n",
    "y=y*3\n",
    "plt.plot(x,y)\n",
    "plt.show()"
   ]
  },
  {
   "cell_type": "code",
   "execution_count": 3,
   "id": "90f4c41c",
   "metadata": {},
   "outputs": [
    {
     "name": "stdout",
     "output_type": "stream",
     "text": [
      "2\n",
      "x is smaller than 3\n"
     ]
    }
   ],
   "source": [
    "#keya\n",

    "x = int(input())\n",
    "if x > 3:\n",
    "    print(\"x is greater than 3\")\n",
    "else:\n",
    "    print(\"x is smaller than 3\")        "

    "\n",
    "df = pd.DataFrame({'X': [7, 2, 0, 3, 4, 2, 5, 0, 3, 4]})\n",
    "df['Y']=[1, 2, 0, 1, 2, 3, 4, 0, 1, 2]\n",
    "df\n",
    "\n",
    "# selby"

   ]
  },
  {
   "cell_type": "code",
   "execution_count": null,
   "id": "c2451362",
   "metadata": {},
   "outputs": [],
   "source": []
  }
 ],
 "metadata": {
  "kernelspec": {
   "display_name": "Python 3",
   "language": "python",
   "name": "python3"
  },
  "language_info": {
   "codemirror_mode": {
    "name": "ipython",
    "version": 3
   },
   "file_extension": ".py",
   "mimetype": "text/x-python",
   "name": "python",
   "nbconvert_exporter": "python",
   "pygments_lexer": "ipython3",
   "version": "3.8.8"
  }
 },
 "nbformat": 4,
 "nbformat_minor": 5
}
