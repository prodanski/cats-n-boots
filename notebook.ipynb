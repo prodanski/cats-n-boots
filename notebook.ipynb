{
 "cells": [
  {
   "cell_type": "code",
   "execution_count": 2,
   "id": "391c97bd",
   "metadata": {},
   "outputs": [],
   "source": [
    "import pandas as pd\n",
    "import numpy as np\n",
    "import matplotlib.pyplot as plt\n",
    "import random as rd"
   ]
  },
  {
   "cell_type": "code",
   "execution_count": 3,
   "id": "cb14d098",
   "metadata": {},
   "outputs": [
    {
     "data": {
      "image/png": "[encoded data removed]",
      "text/plain": [
       "<Figure size 432x288 with 1 Axes>"
      ]
     },
     "metadata": {
      "needs_background": "light"
     },
     "output_type": "display_data"
    },
    {
     "data": {
      "text/html": [
       "<div>\n",
       "<style scoped>\n",
       "    .dataframe tbody tr th:only-of-type {\n",
       "        vertical-align: middle;\n",
       "    }\n",
       "\n",
       "    .dataframe tbody tr th {\n",
       "        vertical-align: top;\n",
       "    }\n",
       "\n",
       "    .dataframe thead th {\n",
       "        text-align: right;\n",
       "    }\n",
       "</style>\n",
       "<table border=\"1\" class=\"dataframe\">\n",
       "  <thead>\n",
       "    <tr style=\"text-align: right;\">\n",
       "      <th></th>\n",
       "      <th>X</th>\n",
       "      <th>Y</th>\n",
       "    </tr>\n",
       "  </thead>\n",
       "  <tbody>\n",
       "    <tr>\n",
       "      <th>0</th>\n",
       "      <td>7</td>\n",
       "      <td>1</td>\n",
       "    </tr>\n",
       "    <tr>\n",
       "      <th>1</th>\n",
       "      <td>2</td>\n",
       "      <td>2</td>\n",
       "    </tr>\n",
       "    <tr>\n",
       "      <th>2</th>\n",
       "      <td>0</td>\n",
       "      <td>0</td>\n",
       "    </tr>\n",
       "    <tr>\n",
       "      <th>3</th>\n",
       "      <td>3</td>\n",
       "      <td>1</td>\n",
       "    </tr>\n",
       "    <tr>\n",
       "      <th>4</th>\n",
       "      <td>4</td>\n",
       "      <td>2</td>\n",
       "    </tr>\n",
       "    <tr>\n",
       "      <th>5</th>\n",
       "      <td>2</td>\n",
       "      <td>3</td>\n",
       "    </tr>\n",
       "    <tr>\n",
       "      <th>6</th>\n",
       "      <td>5</td>\n",
       "      <td>4</td>\n",
       "    </tr>\n",
       "    <tr>\n",
       "      <th>7</th>\n",
       "      <td>0</td>\n",
       "      <td>0</td>\n",
       "    </tr>\n",
       "    <tr>\n",
       "      <th>8</th>\n",
       "      <td>3</td>\n",
       "      <td>1</td>\n",
       "    </tr>\n",
       "    <tr>\n",
       "      <th>9</th>\n",
       "      <td>4</td>\n",
       "      <td>2</td>\n",
       "    </tr>\n",
       "  </tbody>\n",
       "</table>\n",
       "</div>"
      ],
      "text/plain": [
       "   X  Y\n",
       "0  7  1\n",
       "1  2  2\n",
       "2  0  0\n",
       "3  3  1\n",
       "4  4  2\n",
       "5  2  3\n",
       "6  5  4\n",
       "7  0  0\n",
       "8  3  1\n",
       "9  4  2"
      ]
     },
     "execution_count": 3,
     "metadata": {},
     "output_type": "execute_result"
    }
   ],
   "source": [
    "# We be plotting a gaussian\n",
    "\n",
    "x=np.linspace(-3,3,1000)     # x space\n",
    "y=[]                         # y space\n",
    "\n",
    "# Gaussy func\n",
    "def gauss(x,mu=0,s=1):\n",
    "    g=1/(s*(2*np.pi)**0.5)*np.exp(-0.5*(x-mu)**2/(s**2))\n",
    "    return g\n",
    "\n",
    "# Generate data\n",
    "for i in x:\n",
    "    y.append(gauss(i))\n",
    "    \n",
    "# Normalise\n",
    "y=np.array(y)\n",
    "y=y-0.5\n",
    "y=y*3\n",
    "\n",
    "#Plot\n",
    "plt.plot(x,y)\n",
    "plt.title('Hello')\n",
    "plt.show()\n",
    "\n",
    "#keya\n",
    "\n",
    "df = pd.DataFrame({'X': [7, 2, 0, 3, 4, 2, 5, 0, 3, 4]})\n",
    "df['Y']=[1, 2, 0, 1, 2, 3, 4, 0, 1, 2]\n",
    "df\n",
    "\n",
    "# selby"
   ]
  },
  {
   "cell_type": "code",
   "execution_count": 6,
   "id": "5b2d4ff1",
   "metadata": {
    "tags": [
     "hide-cell"
    ]
   },
   "outputs": [],
   "source": [
    "the_truth='Mr Cezar Prodan is the best.'"
   ]
  },
  {
   "cell_type": "code",
   "execution_count": 7,
   "id": "612aae5c",
   "metadata": {},
   "outputs": [
    {
     "name": "stdout",
     "output_type": "stream",
     "text": [
      "Mr Cezar Prodan is the best.\n"
     ]
    }
   ],
   "source": [
    "print(the_truth)"
   ]
  },
  {
   "cell_type": "code",
   "execution_count": null,
   "id": "9a09a0be",
   "metadata": {},
   "outputs": [],
   "source": []
  }
 ],
 "metadata": {
  "celltoolbar": "Edit Metadata",
  "kernelspec": {
   "display_name": "Python 3",
   "language": "python",
   "name": "python3"
  },
  "language_info": {
   "codemirror_mode": {
    "name": "ipython",
    "version": 3
   },
   "file_extension": ".py",
   "mimetype": "text/x-python",
   "name": "python",
   "nbconvert_exporter": "python",
   "pygments_lexer": "ipython3",
   "version": "3.8.8"
  }
 },
 "nbformat": 4,
 "nbformat_minor": 5
}
